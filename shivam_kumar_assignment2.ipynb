{
 "cells": [
  {
   "cell_type": "code",
   "execution_count": 24,
   "id": "b0472c7f",
   "metadata": {},
   "outputs": [],
   "source": [
    "import pandas as pd"
   ]
  },
  {
   "cell_type": "code",
   "execution_count": 26,
   "id": "262458c8",
   "metadata": {},
   "outputs": [
    {
     "name": "stdout",
     "output_type": "stream",
     "text": [
      "Series: 0    10\n",
      "1    20\n",
      "2    30\n",
      "3    40\n",
      "4    50\n",
      "dtype: int64\n"
     ]
    }
   ],
   "source": [
    "# Part A: DataFrame and Series Basics\n",
    "# 1. Create a Pandas Series\n",
    "series = pd.Series([10, 20, 30, 40, 50])\n",
    "print(\"Series:\", series)\n"
   ]
  },
  {
   "cell_type": "code",
   "execution_count": 27,
   "id": "941901b6",
   "metadata": {},
   "outputs": [],
   "source": [
    "# 2. Create a DataFrame\n",
    "data = {\n",
    "    'Name': ['Alice', 'Bob', 'Charlie', 'David'],\n",
    "    'Age': [25, 30, 28, 35],\n",
    "    'Department': ['HR', 'IT', 'Finance', 'IT'],\n",
    "    'Salary': [50000, 70000, 60000, 80000]\n",
    "}"
   ]
  },
  {
   "cell_type": "code",
   "execution_count": 28,
   "id": "d65220ac",
   "metadata": {},
   "outputs": [],
   "source": [
    "df = pd.DataFrame(data)"
   ]
  },
  {
   "cell_type": "code",
   "execution_count": 29,
   "id": "7fe9feef",
   "metadata": {},
   "outputs": [
    {
     "data": {
      "text/html": [
       "<div>\n",
       "<style scoped>\n",
       "    .dataframe tbody tr th:only-of-type {\n",
       "        vertical-align: middle;\n",
       "    }\n",
       "\n",
       "    .dataframe tbody tr th {\n",
       "        vertical-align: top;\n",
       "    }\n",
       "\n",
       "    .dataframe thead th {\n",
       "        text-align: right;\n",
       "    }\n",
       "</style>\n",
       "<table border=\"1\" class=\"dataframe\">\n",
       "  <thead>\n",
       "    <tr style=\"text-align: right;\">\n",
       "      <th></th>\n",
       "      <th>Name</th>\n",
       "      <th>Age</th>\n",
       "      <th>Department</th>\n",
       "      <th>Salary</th>\n",
       "    </tr>\n",
       "  </thead>\n",
       "  <tbody>\n",
       "    <tr>\n",
       "      <th>0</th>\n",
       "      <td>Alice</td>\n",
       "      <td>25</td>\n",
       "      <td>HR</td>\n",
       "      <td>50000</td>\n",
       "    </tr>\n",
       "    <tr>\n",
       "      <th>1</th>\n",
       "      <td>Bob</td>\n",
       "      <td>30</td>\n",
       "      <td>IT</td>\n",
       "      <td>70000</td>\n",
       "    </tr>\n",
       "  </tbody>\n",
       "</table>\n",
       "</div>"
      ],
      "text/plain": [
       "    Name  Age Department  Salary\n",
       "0  Alice   25         HR   50000\n",
       "1    Bob   30         IT   70000"
      ]
     },
     "execution_count": 29,
     "metadata": {},
     "output_type": "execute_result"
    }
   ],
   "source": [
    "# a. First two rows\n",
    "df.head(2) # first 2 rows of the dataframe\n"
   ]
  },
  {
   "cell_type": "code",
   "execution_count": 30,
   "id": "74a54b5d",
   "metadata": {},
   "outputs": [
    {
     "name": "stdout",
     "output_type": "stream",
     "text": [
      "<class 'pandas.core.frame.DataFrame'>\n",
      "RangeIndex: 4 entries, 0 to 3\n",
      "Data columns (total 4 columns):\n",
      " #   Column      Non-Null Count  Dtype \n",
      "---  ------      --------------  ----- \n",
      " 0   Name        4 non-null      object\n",
      " 1   Age         4 non-null      int64 \n",
      " 2   Department  4 non-null      object\n",
      " 3   Salary      4 non-null      int64 \n",
      "dtypes: int64(2), object(2)\n",
      "memory usage: 260.0+ bytes\n"
     ]
    }
   ],
   "source": [
    "# b. Column names and data types\n",
    "df.info()\n"
   ]
  },
  {
   "cell_type": "code",
   "execution_count": 31,
   "id": "3dcea305",
   "metadata": {},
   "outputs": [
    {
     "name": "stdout",
     "output_type": "stream",
     "text": [
      "DataFrame with 'Name' as index:          Age Department  Salary\n",
      "Name                           \n",
      "Alice     25         HR   50000\n",
      "Bob       30         IT   70000\n",
      "Charlie   28    Finance   60000\n",
      "David     35         IT   80000\n"
     ]
    }
   ],
   "source": [
    "# 3. Set \"Name\" column as index\n",
    "df.set_index('Name', inplace=True)\n",
    "print(\"DataFrame with 'Name' as index:\", df)"
   ]
  },
  {
   "cell_type": "code",
   "execution_count": 32,
   "id": "7ee229d7",
   "metadata": {},
   "outputs": [
    {
     "name": "stdout",
     "output_type": "stream",
     "text": [
      "Department and Salary Columns:         Department  Salary\n",
      "Name                      \n",
      "Alice           HR   50000\n",
      "Bob             IT   70000\n",
      "Charlie    Finance   60000\n",
      "David           IT   80000\n"
     ]
    }
   ],
   "source": [
    "# Part B: Data Selection & Filtering\n",
    "# 4a. Select “Department” and “Salary” columns\n",
    "print(\"Department and Salary Columns:\", df[['Department', 'Salary']])"
   ]
  },
  {
   "cell_type": "code",
   "execution_count": 45,
   "id": "1ca1c7d4",
   "metadata": {},
   "outputs": [
    {
     "name": "stdout",
     "output_type": "stream",
     "text": [
      "Rows with Age > 28:        Age Department  Salary   Bonus\n",
      "Name                                 \n",
      "Bob     30         IT   70000  7000.0\n",
      "David   35         IT   80000  8000.0\n"
     ]
    }
   ],
   "source": [
    "\n",
    "# 4b. Select rows where Age > 28\n",
    "print(\"Rows with Age > 28:\", df[df['Age'] > 28])"
   ]
  },
  {
   "cell_type": "code",
   "execution_count": 46,
   "id": "2eb5e5a9",
   "metadata": {},
   "outputs": [
    {
     "name": "stdout",
     "output_type": "stream",
     "text": [
      "IT Department with Salary > 60000:        Age Department  Salary   Bonus\n",
      "Name                                 \n",
      "Bob     30         IT   70000  7000.0\n",
      "David   35         IT   80000  8000.0\n"
     ]
    }
   ],
   "source": [
    "# 4c. Department = IT and Salary > 60000\n",
    "print(\"IT Department with Salary > 60000:\", df[(df['Department'] == 'IT') & (df['Salary'] > 60000)])\n"
   ]
  },
  {
   "cell_type": "code",
   "execution_count": 66,
   "id": "c25fc1e1",
   "metadata": {},
   "outputs": [
    {
     "data": {
      "text/plain": [
       "Name\n",
       "Alice      False\n",
       "Bob         True\n",
       "Charlie    False\n",
       "David       True\n",
       "Name: Salary, dtype: bool"
      ]
     },
     "execution_count": 66,
     "metadata": {},
     "output_type": "execute_result"
    }
   ],
   "source": [
    "df[['Department', 'Salary']]  # selected department and salary>60000\n",
    "df['Salary']>60000"
   ]
  },
  {
   "cell_type": "code",
   "execution_count": 47,
   "id": "fb1c0c19",
   "metadata": {},
   "outputs": [
    {
     "name": "stdout",
     "output_type": "stream",
     "text": [
      "DataFrame with Bonus column:          Age       Department  Salary   Bonus\n",
      "Name                                         \n",
      "Alice     25  Human Resources   50000  5000.0\n",
      "Bob       30               IT   70000  7000.0\n",
      "Charlie   28          Finance   60000  6000.0\n",
      "David     35               IT   80000  8000.0\n"
     ]
    }
   ],
   "source": [
    "# 5. Add new column “Bonus” which is 10% of Salary\n",
    "df['Bonus'] = df['Salary'] * 0.10\n",
    "print(\"DataFrame with Bonus column:\", df)"
   ]
  },
  {
   "cell_type": "code",
   "execution_count": 57,
   "id": "0ddc944e",
   "metadata": {},
   "outputs": [
    {
     "name": "stdout",
     "output_type": "stream",
     "text": [
      "Department column after replacement:\n",
      " Name\n",
      "Alice      Human Resources\n",
      "Bob                     IT\n",
      "Charlie            Finance\n",
      "David                   IT\n",
      "Name: Department, dtype: object\n"
     ]
    }
   ],
   "source": [
    "# 6. Replace “HR” with “Human Resources”\n",
    "df['Department'] = df['Department'].replace('HR', 'Human Resources')\n",
    "print(\"Department column after replacement:\\n\", df['Department'])"
   ]
  },
  {
   "cell_type": "code",
   "execution_count": 58,
   "id": "f7015fb0",
   "metadata": {},
   "outputs": [
    {
     "name": "stdout",
     "output_type": "stream",
     "text": [
      "Average Salary in IT: 75000.0\n"
     ]
    }
   ],
   "source": [
    "# Part C: Aggregation and Sorting\n",
    "# 7. Average salary of employees in “IT”\n",
    "it_avg_salary = df[df['Department'] == 'IT']['Salary'].mean()\n",
    "print(\"Average Salary in IT:\", it_avg_salary)"
   ]
  },
  {
   "cell_type": "code",
   "execution_count": 59,
   "id": "7ad2eb6f",
   "metadata": {},
   "outputs": [
    {
     "name": "stdout",
     "output_type": "stream",
     "text": [
      "DataFrame sorted by Salary:\n",
      "          Age       Department  Salary   Bonus\n",
      "Name                                         \n",
      "David     35               IT   80000  8000.0\n",
      "Bob       30               IT   70000  7000.0\n",
      "Charlie   28          Finance   60000  6000.0\n",
      "Alice     25  Human Resources   50000  5000.0\n"
     ]
    }
   ],
   "source": [
    "# 8. Sort DataFrame by Salary descending\n",
    "df_sorted = df.sort_values(by='Salary', ascending=False)\n",
    "print(\"DataFrame sorted by Salary:\\n\", df_sorted)"
   ]
  },
  {
   "cell_type": "code",
   "execution_count": 60,
   "id": "1f87d9d1",
   "metadata": {},
   "outputs": [
    {
     "name": "stdout",
     "output_type": "stream",
     "text": [
      "Employee count per Department: Department\n",
      "IT                 2\n",
      "Human Resources    1\n",
      "Finance            1\n",
      "Name: count, dtype: int64\n"
     ]
    }
   ],
   "source": [
    "# 9. Count employees in each Department\n",
    "dept_count = df['Department'].value_counts()\n",
    "print(\"Employee count per Department:\", dept_count)"
   ]
  },
  {
   "cell_type": "code",
   "execution_count": 61,
   "id": "09faa0a8",
   "metadata": {},
   "outputs": [
    {
     "name": "stdout",
     "output_type": "stream",
     "text": [
      "Reset index:       Name  Age       Department  Salary   Bonus\n",
      "0    Alice   25  Human Resources   50000  5000.0\n",
      "1      Bob   30               IT   70000  7000.0\n",
      "2  Charlie   28          Finance   60000  6000.0\n",
      "3    David   35               IT   80000  8000.0\n"
     ]
    }
   ],
   "source": [
    "# 10. Reset index\n",
    "df_reset = df.reset_index()\n",
    "print(\"Reset index:\", df_reset)"
   ]
  },
  {
   "cell_type": "code",
   "execution_count": 62,
   "id": "4517c645",
   "metadata": {},
   "outputs": [],
   "source": [
    "# Part D: Loading and Advance Aggregation"
   ]
  },
  {
   "cell_type": "code",
   "execution_count": 63,
   "id": "d1e61f21",
   "metadata": {},
   "outputs": [
    {
     "name": "stdout",
     "output_type": "stream",
     "text": [
      "Shape of loaded DataFrame: (4, 5)\n",
      "Missing values: Name          0\n",
      "Age           0\n",
      "Department    0\n",
      "Salary        0\n",
      "Bonus         0\n",
      "dtype: int64\n"
     ]
    }
   ],
   "source": [
    "# 11. Load CSV, check shape and missing values\n",
    "# Create a dummy CSV file .\n",
    "dummy_df = df_reset  # loaded data\n",
    "print(\"Shape of loaded DataFrame:\", dummy_df.shape)\n",
    "print(\"Missing values:\", dummy_df.isnull().sum())"
   ]
  },
  {
   "cell_type": "code",
   "execution_count": 64,
   "id": "55ed55ec",
   "metadata": {},
   "outputs": [
    {
     "name": "stdout",
     "output_type": "stream",
     "text": [
      "Grouped Mean Salary and Age by Department:                   Salary   Age\n",
      "Department                    \n",
      "Finance          60000.0  28.0\n",
      "Human Resources  50000.0  25.0\n",
      "IT               75000.0  32.5\n"
     ]
    }
   ],
   "source": [
    "# 12. Group by Department and compute mean Salary and Age\n",
    "grouped = dummy_df.groupby('Department')[['Salary', 'Age']].mean()\n",
    "print(\"Grouped Mean Salary and Age by Department:\", grouped)"
   ]
  }
 ],
 "metadata": {
  "kernelspec": {
   "display_name": "base",
   "language": "python",
   "name": "python3"
  },
  "language_info": {
   "codemirror_mode": {
    "name": "ipython",
    "version": 3
   },
   "file_extension": ".py",
   "mimetype": "text/x-python",
   "name": "python",
   "nbconvert_exporter": "python",
   "pygments_lexer": "ipython3",
   "version": "3.12.7"
  }
 },
 "nbformat": 4,
 "nbformat_minor": 5
}
