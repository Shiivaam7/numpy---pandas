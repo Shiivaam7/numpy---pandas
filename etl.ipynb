{
 "cells": [
  {
   "cell_type": "code",
   "execution_count": 11,
   "id": "8795c1bb",
   "metadata": {},
   "outputs": [],
   "source": [
    "import pandas as pd\n",
    "df = pd.read_csv(\"netflix_titles.csv\")"
   ]
  },
  {
   "cell_type": "code",
   "execution_count": 12,
   "id": "f249bc33",
   "metadata": {},
   "outputs": [
    {
     "name": "stdout",
     "output_type": "stream",
     "text": [
      "      show_id   type  title  director   cast  country  date_added  \\\n",
      "0       False  False  False     False   True    False       False   \n",
      "1       False  False  False      True  False    False       False   \n",
      "2       False  False  False     False  False     True       False   \n",
      "3       False  False  False      True   True     True       False   \n",
      "4       False  False  False      True  False    False       False   \n",
      "...       ...    ...    ...       ...    ...      ...         ...   \n",
      "8802    False  False  False     False  False    False       False   \n",
      "8803    False  False  False      True   True     True       False   \n",
      "8804    False  False  False     False  False    False       False   \n",
      "8805    False  False  False     False  False    False       False   \n",
      "8806    False  False  False     False  False    False       False   \n",
      "\n",
      "      release_year  rating  duration  listed_in  description  \n",
      "0            False   False     False      False        False  \n",
      "1            False   False     False      False        False  \n",
      "2            False   False     False      False        False  \n",
      "3            False   False     False      False        False  \n",
      "4            False   False     False      False        False  \n",
      "...            ...     ...       ...        ...          ...  \n",
      "8802         False   False     False      False        False  \n",
      "8803         False   False     False      False        False  \n",
      "8804         False   False     False      False        False  \n",
      "8805         False   False     False      False        False  \n",
      "8806         False   False     False      False        False  \n",
      "\n",
      "[8807 rows x 12 columns]\n"
     ]
    }
   ],
   "source": [
    "print(df.isnull())"
   ]
  },
  {
   "cell_type": "code",
   "execution_count": 13,
   "id": "937a2091",
   "metadata": {},
   "outputs": [
    {
     "name": "stdout",
     "output_type": "stream",
     "text": [
      "0       False\n",
      "1       False\n",
      "2       False\n",
      "3       False\n",
      "4       False\n",
      "        ...  \n",
      "8802    False\n",
      "8803    False\n",
      "8804    False\n",
      "8805    False\n",
      "8806    False\n",
      "Length: 8807, dtype: bool\n"
     ]
    }
   ],
   "source": [
    "print(df.duplicated())"
   ]
  },
  {
   "cell_type": "code",
   "execution_count": 16,
   "id": "9c9c8289",
   "metadata": {},
   "outputs": [
    {
     "name": "stdout",
     "output_type": "stream",
     "text": [
      "<class 'pandas.core.frame.DataFrame'>\n",
      "RangeIndex: 8807 entries, 0 to 8806\n",
      "Data columns (total 12 columns):\n",
      " #   Column        Non-Null Count  Dtype \n",
      "---  ------        --------------  ----- \n",
      " 0   show_id       8807 non-null   object\n",
      " 1   type          8807 non-null   object\n",
      " 2   title         8807 non-null   object\n",
      " 3   director      6173 non-null   object\n",
      " 4   cast          7982 non-null   object\n",
      " 5   country       7976 non-null   object\n",
      " 6   date_added    8797 non-null   object\n",
      " 7   release_year  8807 non-null   int64 \n",
      " 8   rating        8803 non-null   object\n",
      " 9   duration      8804 non-null   object\n",
      " 10  listed_in     8807 non-null   object\n",
      " 11  description   8807 non-null   object\n",
      "dtypes: int64(1), object(11)\n",
      "memory usage: 825.8+ KB\n",
      "None\n"
     ]
    }
   ],
   "source": [
    "print(df.info())"
   ]
  },
  {
   "cell_type": "code",
   "execution_count": 17,
   "id": "45c6de55",
   "metadata": {},
   "outputs": [
    {
     "name": "stdout",
     "output_type": "stream",
     "text": [
      "  show_id     type                  title         director  \\\n",
      "0      s1    Movie   Dick Johnson Is Dead  Kirsten Johnson   \n",
      "1      s2  TV Show          Blood & Water              NaN   \n",
      "2      s3  TV Show              Ganglands  Julien Leclercq   \n",
      "3      s4  TV Show  Jailbirds New Orleans              NaN   \n",
      "4      s5  TV Show           Kota Factory              NaN   \n",
      "\n",
      "                                                cast        country  \\\n",
      "0                                                NaN  United States   \n",
      "1  Ama Qamata, Khosi Ngema, Gail Mabalane, Thaban...   South Africa   \n",
      "2  Sami Bouajila, Tracy Gotoas, Samuel Jouy, Nabi...            NaN   \n",
      "3                                                NaN            NaN   \n",
      "4  Mayur More, Jitendra Kumar, Ranjan Raj, Alam K...          India   \n",
      "\n",
      "           date_added  release_year rating   duration  \\\n",
      "0  September 25, 2021          2020  PG-13     90 min   \n",
      "1  September 24, 2021          2021  TV-MA  2 Seasons   \n",
      "2  September 24, 2021          2021  TV-MA   1 Season   \n",
      "3  September 24, 2021          2021  TV-MA   1 Season   \n",
      "4  September 24, 2021          2021  TV-MA  2 Seasons   \n",
      "\n",
      "                                           listed_in  \\\n",
      "0                                      Documentaries   \n",
      "1    International TV Shows, TV Dramas, TV Mysteries   \n",
      "2  Crime TV Shows, International TV Shows, TV Act...   \n",
      "3                             Docuseries, Reality TV   \n",
      "4  International TV Shows, Romantic TV Shows, TV ...   \n",
      "\n",
      "                                         description  \n",
      "0  As her father nears the end of his life, filmm...  \n",
      "1  After crossing paths at a party, a Cape Town t...  \n",
      "2  To protect his family from a powerful drug lor...  \n",
      "3  Feuds, flirtations and toilet talk go down amo...  \n",
      "4  In a city of coaching centers known to train I...  \n"
     ]
    }
   ],
   "source": [
    "print(df.head())"
   ]
  },
  {
   "cell_type": "code",
   "execution_count": 18,
   "id": "f72d0651",
   "metadata": {},
   "outputs": [
    {
     "name": "stdout",
     "output_type": "stream",
     "text": [
      "Numeric columns: Index(['release_year'], dtype='object')\n"
     ]
    }
   ],
   "source": [
    "numeric_cols = df.select_dtypes(include='number').columns\n",
    "print(\"Numeric columns:\", numeric_cols)"
   ]
  },
  {
   "cell_type": "code",
   "execution_count": 19,
   "id": "9f3300d2",
   "metadata": {},
   "outputs": [
    {
     "name": "stdout",
     "output_type": "stream",
     "text": [
      "0.25    2013.0\n",
      "0.50    2017.0\n",
      "0.75    2019.0\n",
      "Name: release_year, dtype: float64\n"
     ]
    }
   ],
   "source": [
    "print(df['release_year'].quantile([0.25, 0.5, 0.75]))"
   ]
  },
  {
   "cell_type": "code",
   "execution_count": 22,
   "id": "33f896ff",
   "metadata": {},
   "outputs": [
    {
     "name": "stdout",
     "output_type": "stream",
     "text": [
      "Original Columns:\n",
      "['show_id', 'type', 'title', 'director', 'cast', 'country', 'date_added', 'release_year', 'rating', 'duration', 'listed_in', 'description']\n"
     ]
    }
   ],
   "source": [
    "import pandas as pd\n",
    "df = pd.read_csv('netflix_titles.csv')\n",
    "print(\"Original Columns:\")\n",
    "print(df.columns.tolist())\n"
   ]
  },
  {
   "cell_type": "code",
   "execution_count": 24,
   "id": "bf882c61",
   "metadata": {},
   "outputs": [
    {
     "name": "stdout",
     "output_type": "stream",
     "text": [
      "Renamed Columns:\n",
      "['id', 'content_type', 'movie_title', 'director', 'cast', 'country', 'date_added', 'release_year', 'rating', 'duration', 'listed_in', 'description']\n"
     ]
    }
   ],
   "source": [
    "df.rename(columns={\n",
    "    'show_id': 'id',\n",
    "    'type': 'content_type',\n",
    "    'title': 'movie_title'\n",
    "}, inplace=True)\n",
    "print(\"Renamed Columns:\")\n",
    "print(df.columns.tolist())\n"
   ]
  },
  {
   "cell_type": "code",
   "execution_count": 25,
   "id": "2929a1d7",
   "metadata": {},
   "outputs": [
    {
     "name": "stdout",
     "output_type": "stream",
     "text": [
      "['id', 'content_type', 'movie_title', 'director', 'cast', 'country', 'date_added', 'release_year', 'rating', 'duration', 'listed_in', 'description']\n"
     ]
    }
   ],
   "source": [
    "print(df.columns.tolist())"
   ]
  },
  {
   "cell_type": "code",
   "execution_count": 46,
   "id": "8a72adec",
   "metadata": {},
   "outputs": [],
   "source": [
    "df.drop([], axis=1, inplace=True)"
   ]
  },
  {
   "cell_type": "code",
   "execution_count": 44,
   "id": "70dc0a97",
   "metadata": {},
   "outputs": [
    {
     "data": {
      "text/html": [
       "<div>\n",
       "<style scoped>\n",
       "    .dataframe tbody tr th:only-of-type {\n",
       "        vertical-align: middle;\n",
       "    }\n",
       "\n",
       "    .dataframe tbody tr th {\n",
       "        vertical-align: top;\n",
       "    }\n",
       "\n",
       "    .dataframe thead th {\n",
       "        text-align: right;\n",
       "    }\n",
       "</style>\n",
       "<table border=\"1\" class=\"dataframe\">\n",
       "  <thead>\n",
       "    <tr style=\"text-align: right;\">\n",
       "      <th></th>\n",
       "      <th>id</th>\n",
       "      <th>content_type</th>\n",
       "      <th>movie_title</th>\n",
       "      <th>director</th>\n",
       "      <th>cast</th>\n",
       "      <th>country</th>\n",
       "      <th>release_year</th>\n",
       "      <th>rating</th>\n",
       "      <th>duration</th>\n",
       "      <th>listed_in</th>\n",
       "    </tr>\n",
       "  </thead>\n",
       "  <tbody>\n",
       "    <tr>\n",
       "      <th>0</th>\n",
       "      <td>s1</td>\n",
       "      <td>Movie</td>\n",
       "      <td>Dick Johnson Is Dead</td>\n",
       "      <td>Kirsten Johnson</td>\n",
       "      <td>NaN</td>\n",
       "      <td>United States</td>\n",
       "      <td>2020</td>\n",
       "      <td>PG-13</td>\n",
       "      <td>90 min</td>\n",
       "      <td>Documentaries</td>\n",
       "    </tr>\n",
       "    <tr>\n",
       "      <th>1</th>\n",
       "      <td>s2</td>\n",
       "      <td>TV Show</td>\n",
       "      <td>Blood &amp; Water</td>\n",
       "      <td>NaN</td>\n",
       "      <td>Ama Qamata, Khosi Ngema, Gail Mabalane, Thaban...</td>\n",
       "      <td>South Africa</td>\n",
       "      <td>2021</td>\n",
       "      <td>TV-MA</td>\n",
       "      <td>2 Seasons</td>\n",
       "      <td>International TV Shows, TV Dramas, TV Mysteries</td>\n",
       "    </tr>\n",
       "    <tr>\n",
       "      <th>2</th>\n",
       "      <td>s3</td>\n",
       "      <td>TV Show</td>\n",
       "      <td>Ganglands</td>\n",
       "      <td>Julien Leclercq</td>\n",
       "      <td>Sami Bouajila, Tracy Gotoas, Samuel Jouy, Nabi...</td>\n",
       "      <td>NaN</td>\n",
       "      <td>2021</td>\n",
       "      <td>TV-MA</td>\n",
       "      <td>1 Season</td>\n",
       "      <td>Crime TV Shows, International TV Shows, TV Act...</td>\n",
       "    </tr>\n",
       "    <tr>\n",
       "      <th>3</th>\n",
       "      <td>s4</td>\n",
       "      <td>TV Show</td>\n",
       "      <td>Jailbirds New Orleans</td>\n",
       "      <td>NaN</td>\n",
       "      <td>NaN</td>\n",
       "      <td>NaN</td>\n",
       "      <td>2021</td>\n",
       "      <td>TV-MA</td>\n",
       "      <td>1 Season</td>\n",
       "      <td>Docuseries, Reality TV</td>\n",
       "    </tr>\n",
       "    <tr>\n",
       "      <th>4</th>\n",
       "      <td>s5</td>\n",
       "      <td>TV Show</td>\n",
       "      <td>Kota Factory</td>\n",
       "      <td>NaN</td>\n",
       "      <td>Mayur More, Jitendra Kumar, Ranjan Raj, Alam K...</td>\n",
       "      <td>India</td>\n",
       "      <td>2021</td>\n",
       "      <td>TV-MA</td>\n",
       "      <td>2 Seasons</td>\n",
       "      <td>International TV Shows, Romantic TV Shows, TV ...</td>\n",
       "    </tr>\n",
       "  </tbody>\n",
       "</table>\n",
       "</div>"
      ],
      "text/plain": [
       "   id content_type            movie_title         director  \\\n",
       "0  s1        Movie   Dick Johnson Is Dead  Kirsten Johnson   \n",
       "1  s2      TV Show          Blood & Water              NaN   \n",
       "2  s3      TV Show              Ganglands  Julien Leclercq   \n",
       "3  s4      TV Show  Jailbirds New Orleans              NaN   \n",
       "4  s5      TV Show           Kota Factory              NaN   \n",
       "\n",
       "                                                cast        country  \\\n",
       "0                                                NaN  United States   \n",
       "1  Ama Qamata, Khosi Ngema, Gail Mabalane, Thaban...   South Africa   \n",
       "2  Sami Bouajila, Tracy Gotoas, Samuel Jouy, Nabi...            NaN   \n",
       "3                                                NaN            NaN   \n",
       "4  Mayur More, Jitendra Kumar, Ranjan Raj, Alam K...          India   \n",
       "\n",
       "   release_year rating   duration  \\\n",
       "0          2020  PG-13     90 min   \n",
       "1          2021  TV-MA  2 Seasons   \n",
       "2          2021  TV-MA   1 Season   \n",
       "3          2021  TV-MA   1 Season   \n",
       "4          2021  TV-MA  2 Seasons   \n",
       "\n",
       "                                           listed_in  \n",
       "0                                      Documentaries  \n",
       "1    International TV Shows, TV Dramas, TV Mysteries  \n",
       "2  Crime TV Shows, International TV Shows, TV Act...  \n",
       "3                             Docuseries, Reality TV  \n",
       "4  International TV Shows, Romantic TV Shows, TV ...  "
      ]
     },
     "execution_count": 44,
     "metadata": {},
     "output_type": "execute_result"
    }
   ],
   "source": [
    "df.head()"
   ]
  },
  {
   "cell_type": "code",
   "execution_count": 48,
   "id": "2827260a",
   "metadata": {},
   "outputs": [
    {
     "name": "stdout",
     "output_type": "stream",
     "text": [
      "         id content_type            movie_title         director  \\\n",
      "0        s1        Movie   Dick Johnson Is Dead  Kirsten Johnson   \n",
      "1        s2      TV Show          Blood & Water              NaN   \n",
      "2        s3      TV Show              Ganglands  Julien Leclercq   \n",
      "3        s4      TV Show  Jailbirds New Orleans              NaN   \n",
      "4        s5      TV Show           Kota Factory              NaN   \n",
      "...     ...          ...                    ...              ...   \n",
      "8802  s8803        Movie                 Zodiac    David Fincher   \n",
      "8803  s8804      TV Show            Zombie Dumb              NaN   \n",
      "8804  s8805        Movie             Zombieland  Ruben Fleischer   \n",
      "8805  s8806        Movie                   Zoom     Peter Hewitt   \n",
      "8806  s8807        Movie                 Zubaan      Mozez Singh   \n",
      "\n",
      "                                                   cast        country  \\\n",
      "0                                                   NaN  United States   \n",
      "1     Ama Qamata, Khosi Ngema, Gail Mabalane, Thaban...   South Africa   \n",
      "2     Sami Bouajila, Tracy Gotoas, Samuel Jouy, Nabi...            NaN   \n",
      "3                                                   NaN            NaN   \n",
      "4     Mayur More, Jitendra Kumar, Ranjan Raj, Alam K...          India   \n",
      "...                                                 ...            ...   \n",
      "8802  Mark Ruffalo, Jake Gyllenhaal, Robert Downey J...  United States   \n",
      "8803                                                NaN            NaN   \n",
      "8804  Jesse Eisenberg, Woody Harrelson, Emma Stone, ...  United States   \n",
      "8805  Tim Allen, Courteney Cox, Chevy Chase, Kate Ma...  United States   \n",
      "8806  Vicky Kaushal, Sarah-Jane Dias, Raaghav Chanan...          India   \n",
      "\n",
      "      release_year rating   duration  \\\n",
      "0             2020  PG-13     90 min   \n",
      "1             2021  TV-MA  2 Seasons   \n",
      "2             2021  TV-MA   1 Season   \n",
      "3             2021  TV-MA   1 Season   \n",
      "4             2021  TV-MA  2 Seasons   \n",
      "...            ...    ...        ...   \n",
      "8802          2007      R    158 min   \n",
      "8803          2018  TV-Y7  2 Seasons   \n",
      "8804          2009      R     88 min   \n",
      "8805          2006     PG     88 min   \n",
      "8806          2015  TV-14    111 min   \n",
      "\n",
      "                                              listed_in  \n",
      "0                                         Documentaries  \n",
      "1       International TV Shows, TV Dramas, TV Mysteries  \n",
      "2     Crime TV Shows, International TV Shows, TV Act...  \n",
      "3                                Docuseries, Reality TV  \n",
      "4     International TV Shows, Romantic TV Shows, TV ...  \n",
      "...                                                 ...  \n",
      "8802                     Cult Movies, Dramas, Thrillers  \n",
      "8803             Kids' TV, Korean TV Shows, TV Comedies  \n",
      "8804                            Comedies, Horror Movies  \n",
      "8805                 Children & Family Movies, Comedies  \n",
      "8806     Dramas, International Movies, Music & Musicals  \n",
      "\n",
      "[8807 rows x 10 columns]\n"
     ]
    }
   ],
   "source": [
    "df.to_csv('netflix_cleaned.csv', index=False)\n",
    "print(df)\n"
   ]
  },
  {
   "cell_type": "code",
   "execution_count": 49,
   "id": "58be2bea",
   "metadata": {},
   "outputs": [
    {
     "name": "stdout",
     "output_type": "stream",
     "text": [
      "         id content_type            movie_title         director  \\\n",
      "0        s1        Movie   Dick Johnson Is Dead  Kirsten Johnson   \n",
      "1        s2      TV Show          Blood & Water              NaN   \n",
      "2        s3      TV Show              Ganglands  Julien Leclercq   \n",
      "3        s4      TV Show  Jailbirds New Orleans              NaN   \n",
      "4        s5      TV Show           Kota Factory              NaN   \n",
      "...     ...          ...                    ...              ...   \n",
      "8802  s8803        Movie                 Zodiac    David Fincher   \n",
      "8803  s8804      TV Show            Zombie Dumb              NaN   \n",
      "8804  s8805        Movie             Zombieland  Ruben Fleischer   \n",
      "8805  s8806        Movie                   Zoom     Peter Hewitt   \n",
      "8806  s8807        Movie                 Zubaan      Mozez Singh   \n",
      "\n",
      "                                                   cast        country  \\\n",
      "0                                                   NaN  United States   \n",
      "1     Ama Qamata, Khosi Ngema, Gail Mabalane, Thaban...   South Africa   \n",
      "2     Sami Bouajila, Tracy Gotoas, Samuel Jouy, Nabi...            NaN   \n",
      "3                                                   NaN            NaN   \n",
      "4     Mayur More, Jitendra Kumar, Ranjan Raj, Alam K...          India   \n",
      "...                                                 ...            ...   \n",
      "8802  Mark Ruffalo, Jake Gyllenhaal, Robert Downey J...  United States   \n",
      "8803                                                NaN            NaN   \n",
      "8804  Jesse Eisenberg, Woody Harrelson, Emma Stone, ...  United States   \n",
      "8805  Tim Allen, Courteney Cox, Chevy Chase, Kate Ma...  United States   \n",
      "8806  Vicky Kaushal, Sarah-Jane Dias, Raaghav Chanan...          India   \n",
      "\n",
      "      release_year rating   duration  \\\n",
      "0             2020  PG-13     90 min   \n",
      "1             2021  TV-MA  2 Seasons   \n",
      "2             2021  TV-MA   1 Season   \n",
      "3             2021  TV-MA   1 Season   \n",
      "4             2021  TV-MA  2 Seasons   \n",
      "...            ...    ...        ...   \n",
      "8802          2007      R    158 min   \n",
      "8803          2018  TV-Y7  2 Seasons   \n",
      "8804          2009      R     88 min   \n",
      "8805          2006     PG     88 min   \n",
      "8806          2015  TV-14    111 min   \n",
      "\n",
      "                                              listed_in  \n",
      "0                                         Documentaries  \n",
      "1       International TV Shows, TV Dramas, TV Mysteries  \n",
      "2     Crime TV Shows, International TV Shows, TV Act...  \n",
      "3                                Docuseries, Reality TV  \n",
      "4     International TV Shows, Romantic TV Shows, TV ...  \n",
      "...                                                 ...  \n",
      "8802                     Cult Movies, Dramas, Thrillers  \n",
      "8803             Kids' TV, Korean TV Shows, TV Comedies  \n",
      "8804                            Comedies, Horror Movies  \n",
      "8805                 Children & Family Movies, Comedies  \n",
      "8806     Dramas, International Movies, Music & Musicals  \n",
      "\n",
      "[8807 rows x 10 columns]\n"
     ]
    }
   ],
   "source": [
    "df.to_json('netflix_cleaned.json', index=False)\n",
    "print(df)"
   ]
  }
 ],
 "metadata": {
  "kernelspec": {
   "display_name": "base",
   "language": "python",
   "name": "python3"
  },
  "language_info": {
   "codemirror_mode": {
    "name": "ipython",
    "version": 3
   },
   "file_extension": ".py",
   "mimetype": "text/x-python",
   "name": "python",
   "nbconvert_exporter": "python",
   "pygments_lexer": "ipython3",
   "version": "3.12.7"
  }
 },
 "nbformat": 4,
 "nbformat_minor": 5
}
